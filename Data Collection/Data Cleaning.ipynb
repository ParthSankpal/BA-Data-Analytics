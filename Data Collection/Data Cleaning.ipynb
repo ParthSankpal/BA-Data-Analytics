{
 "cells": [
  {
   "cell_type": "code",
   "execution_count": 4,
   "id": "02743376",
   "metadata": {},
   "outputs": [],
   "source": [
    "\n",
    "import pandas as pd\n",
    "import matplotlib.pyplot as plt\n",
    "import seaborn as sns\n",
    "import os\n",
    "\n",
    "\n",
    "import re"
   ]
  },
  {
   "cell_type": "code",
   "execution_count": 5,
   "id": "14c718a2",
   "metadata": {},
   "outputs": [
    {
     "data": {
      "text/html": [
       "<div>\n",
       "<style scoped>\n",
       "    .dataframe tbody tr th:only-of-type {\n",
       "        vertical-align: middle;\n",
       "    }\n",
       "\n",
       "    .dataframe tbody tr th {\n",
       "        vertical-align: top;\n",
       "    }\n",
       "\n",
       "    .dataframe thead th {\n",
       "        text-align: right;\n",
       "    }\n",
       "</style>\n",
       "<table border=\"1\" class=\"dataframe\">\n",
       "  <thead>\n",
       "    <tr style=\"text-align: right;\">\n",
       "      <th></th>\n",
       "      <th>reviews</th>\n",
       "      <th>stars</th>\n",
       "      <th>date</th>\n",
       "      <th>country</th>\n",
       "    </tr>\n",
       "  </thead>\n",
       "  <tbody>\n",
       "    <tr>\n",
       "      <th>0</th>\n",
       "      <td>Not Verified | I was excited to fly BA as I'd ...</td>\n",
       "      <td>\\n\\t\\t\\t\\t\\t\\t\\t\\t\\t\\t\\t\\t\\t5</td>\n",
       "      <td>18th January 2024</td>\n",
       "      <td>United Kingdom</td>\n",
       "    </tr>\n",
       "    <tr>\n",
       "      <th>1</th>\n",
       "      <td>Not Verified |  I just want to warn everyone o...</td>\n",
       "      <td>2</td>\n",
       "      <td>17th January 2024</td>\n",
       "      <td>Germany</td>\n",
       "    </tr>\n",
       "    <tr>\n",
       "      <th>2</th>\n",
       "      <td>Not Verified | Paid for business class travell...</td>\n",
       "      <td>1</td>\n",
       "      <td>16th January 2024</td>\n",
       "      <td>United Kingdom</td>\n",
       "    </tr>\n",
       "    <tr>\n",
       "      <th>3</th>\n",
       "      <td>✅ Trip Verified |  The plane was extremely dir...</td>\n",
       "      <td>1</td>\n",
       "      <td>15th January 2024</td>\n",
       "      <td>Ireland</td>\n",
       "    </tr>\n",
       "    <tr>\n",
       "      <th>4</th>\n",
       "      <td>Not Verified | Overall journey wasn’t bad howe...</td>\n",
       "      <td>1</td>\n",
       "      <td>12th January 2024</td>\n",
       "      <td>United Kingdom</td>\n",
       "    </tr>\n",
       "  </tbody>\n",
       "</table>\n",
       "</div>"
      ],
      "text/plain": [
       "                                             reviews  \\\n",
       "0  Not Verified | I was excited to fly BA as I'd ...   \n",
       "1  Not Verified |  I just want to warn everyone o...   \n",
       "2  Not Verified | Paid for business class travell...   \n",
       "3  ✅ Trip Verified |  The plane was extremely dir...   \n",
       "4  Not Verified | Overall journey wasn’t bad howe...   \n",
       "\n",
       "                           stars               date         country  \n",
       "0  \\n\\t\\t\\t\\t\\t\\t\\t\\t\\t\\t\\t\\t\\t5  18th January 2024  United Kingdom  \n",
       "1                              2  17th January 2024         Germany  \n",
       "2                              1  16th January 2024  United Kingdom  \n",
       "3                              1  15th January 2024         Ireland  \n",
       "4                              1  12th January 2024  United Kingdom  "
      ]
     },
     "execution_count": 5,
     "metadata": {},
     "output_type": "execute_result"
    }
   ],
   "source": [
    "df = pd.read_csv(\"./BA_reviews.csv\", index_col=0)\n",
    "df.head()"
   ]
  },
  {
   "cell_type": "code",
   "execution_count": 6,
   "id": "aa9e9bef",
   "metadata": {},
   "outputs": [
    {
     "data": {
      "text/plain": [
       "0       False\n",
       "1       False\n",
       "2       False\n",
       "3        True\n",
       "4       False\n",
       "        ...  \n",
       "3495    False\n",
       "3496    False\n",
       "3497    False\n",
       "3498    False\n",
       "3499    False\n",
       "Name: verified, Length: 3500, dtype: bool"
      ]
     },
     "execution_count": 6,
     "metadata": {},
     "output_type": "execute_result"
    }
   ],
   "source": [
    "df['verified'] = df.reviews.str.contains(\"Trip Verified\")\n",
    "df['verified']"
   ]
  },
  {
   "cell_type": "markdown",
   "id": "9e5dec58",
   "metadata": {},
   "source": [
    "### Cleaning reviews"
   ]
  },
  {
   "cell_type": "code",
   "execution_count": 1,
   "id": "59989405",
   "metadata": {
    "scrolled": false
   },
   "outputs": [
    {
     "name": "stdout",
     "output_type": "stream",
     "text": [
      "Name: nltk\n",
      "Version: 3.7\n",
      "Summary: Natural Language Toolkit\n",
      "Home-page: https://www.nltk.org/\n",
      "Author: NLTK Team\n",
      "Author-email: nltk.team@gmail.com\n",
      "License: Apache License, Version 2.0\n",
      "Location: c:\\users\\user\\anaconda3\\lib\\site-packages\n",
      "Requires: click, joblib, regex, tqdm\n",
      "Required-by: \n"
     ]
    }
   ],
   "source": [
    "!pip show nltk"
   ]
  },
  {
   "cell_type": "code",
   "execution_count": 9,
   "id": "6aa29697",
   "metadata": {},
   "outputs": [
    {
     "name": "stderr",
     "output_type": "stream",
     "text": [
      "[nltk_data] Downloading package omw-1.4 to\n",
      "[nltk_data]     C:\\Users\\user\\AppData\\Roaming\\nltk_data...\n"
     ]
    },
    {
     "data": {
      "text/plain": [
       "True"
      ]
     },
     "execution_count": 9,
     "metadata": {},
     "output_type": "execute_result"
    }
   ],
   "source": [
    "import nltk\n",
    "nltk.download('omw-1.4')"
   ]
  },
  {
   "cell_type": "code",
   "execution_count": 10,
   "id": "2ad0efa9",
   "metadata": {},
   "outputs": [],
   "source": [
    "from nltk.stem import WordNetLemmatizer\n",
    "from nltk.corpus import stopwords\n",
    "lemma = WordNetLemmatizer()"
   ]
  },
  {
   "cell_type": "code",
   "execution_count": 11,
   "id": "c939d820",
   "metadata": {},
   "outputs": [],
   "source": [
    "reviews_data = df.reviews.str.strip(\"✅ Trip Verified |\")\n",
    "\n",
    "corpus =[]\n",
    "\n",
    "for rev in reviews_data:\n",
    "    rev = re.sub('[^a-zA-Z]',' ', rev)\n",
    "    rev = rev.lower()\n",
    "    rev = rev.split()\n",
    "    rev = [lemma.lemmatize(word) for word in rev if word not in set(stopwords.words(\"english\"))]\n",
    "    rev = \" \".join(rev)\n",
    "    corpus.append(rev)"
   ]
  },
  {
   "cell_type": "code",
   "execution_count": 12,
   "id": "eabcdad1",
   "metadata": {},
   "outputs": [
    {
     "data": {
      "text/html": [
       "<div>\n",
       "<style scoped>\n",
       "    .dataframe tbody tr th:only-of-type {\n",
       "        vertical-align: middle;\n",
       "    }\n",
       "\n",
       "    .dataframe tbody tr th {\n",
       "        vertical-align: top;\n",
       "    }\n",
       "\n",
       "    .dataframe thead th {\n",
       "        text-align: right;\n",
       "    }\n",
       "</style>\n",
       "<table border=\"1\" class=\"dataframe\">\n",
       "  <thead>\n",
       "    <tr style=\"text-align: right;\">\n",
       "      <th></th>\n",
       "      <th>reviews</th>\n",
       "      <th>stars</th>\n",
       "      <th>date</th>\n",
       "      <th>country</th>\n",
       "      <th>verified</th>\n",
       "      <th>corpus</th>\n",
       "    </tr>\n",
       "  </thead>\n",
       "  <tbody>\n",
       "    <tr>\n",
       "      <th>0</th>\n",
       "      <td>Not Verified | I was excited to fly BA as I'd ...</td>\n",
       "      <td>\\n\\t\\t\\t\\t\\t\\t\\t\\t\\t\\t\\t\\t\\t5</td>\n",
       "      <td>18th January 2024</td>\n",
       "      <td>United Kingdom</td>\n",
       "      <td>False</td>\n",
       "      <td>verified excited fly ba travelled long haul yr...</td>\n",
       "    </tr>\n",
       "    <tr>\n",
       "      <th>1</th>\n",
       "      <td>Not Verified |  I just want to warn everyone o...</td>\n",
       "      <td>2</td>\n",
       "      <td>17th January 2024</td>\n",
       "      <td>Germany</td>\n",
       "      <td>False</td>\n",
       "      <td>verified want warn everyone worst customer ser...</td>\n",
       "    </tr>\n",
       "    <tr>\n",
       "      <th>2</th>\n",
       "      <td>Not Verified | Paid for business class travell...</td>\n",
       "      <td>1</td>\n",
       "      <td>16th January 2024</td>\n",
       "      <td>United Kingdom</td>\n",
       "      <td>False</td>\n",
       "      <td>verified paid business class travelling cairo ...</td>\n",
       "    </tr>\n",
       "    <tr>\n",
       "      <th>3</th>\n",
       "      <td>✅ Trip Verified |  The plane was extremely dir...</td>\n",
       "      <td>1</td>\n",
       "      <td>15th January 2024</td>\n",
       "      <td>Ireland</td>\n",
       "      <td>True</td>\n",
       "      <td>plane extremely dirty chocolate smudged mine c...</td>\n",
       "    </tr>\n",
       "    <tr>\n",
       "      <th>4</th>\n",
       "      <td>Not Verified | Overall journey wasn’t bad howe...</td>\n",
       "      <td>1</td>\n",
       "      <td>12th January 2024</td>\n",
       "      <td>United Kingdom</td>\n",
       "      <td>False</td>\n",
       "      <td>verified overall journey bad however end bagga...</td>\n",
       "    </tr>\n",
       "  </tbody>\n",
       "</table>\n",
       "</div>"
      ],
      "text/plain": [
       "                                             reviews  \\\n",
       "0  Not Verified | I was excited to fly BA as I'd ...   \n",
       "1  Not Verified |  I just want to warn everyone o...   \n",
       "2  Not Verified | Paid for business class travell...   \n",
       "3  ✅ Trip Verified |  The plane was extremely dir...   \n",
       "4  Not Verified | Overall journey wasn’t bad howe...   \n",
       "\n",
       "                           stars               date         country  verified  \\\n",
       "0  \\n\\t\\t\\t\\t\\t\\t\\t\\t\\t\\t\\t\\t\\t5  18th January 2024  United Kingdom     False   \n",
       "1                              2  17th January 2024         Germany     False   \n",
       "2                              1  16th January 2024  United Kingdom     False   \n",
       "3                              1  15th January 2024         Ireland      True   \n",
       "4                              1  12th January 2024  United Kingdom     False   \n",
       "\n",
       "                                              corpus  \n",
       "0  verified excited fly ba travelled long haul yr...  \n",
       "1  verified want warn everyone worst customer ser...  \n",
       "2  verified paid business class travelling cairo ...  \n",
       "3  plane extremely dirty chocolate smudged mine c...  \n",
       "4  verified overall journey bad however end bagga...  "
      ]
     },
     "execution_count": 12,
     "metadata": {},
     "output_type": "execute_result"
    }
   ],
   "source": [
    "df['corpus'] = corpus\n",
    "df.head()"
   ]
  },
  {
   "cell_type": "code",
   "execution_count": 13,
   "id": "8d1d85d2",
   "metadata": {},
   "outputs": [
    {
     "data": {
      "text/plain": [
       "reviews     object\n",
       "stars       object\n",
       "date        object\n",
       "country     object\n",
       "verified      bool\n",
       "corpus      object\n",
       "dtype: object"
      ]
     },
     "execution_count": 13,
     "metadata": {},
     "output_type": "execute_result"
    }
   ],
   "source": [
    "df.dtypes"
   ]
  },
  {
   "cell_type": "code",
   "execution_count": 14,
   "id": "8bae0eee",
   "metadata": {},
   "outputs": [
    {
     "data": {
      "text/plain": [
       "0      2024-01-18\n",
       "1      2024-01-17\n",
       "2      2024-01-16\n",
       "3      2024-01-15\n",
       "4      2024-01-12\n",
       "          ...    \n",
       "3495   2014-09-01\n",
       "3496   2014-09-01\n",
       "3497   2014-09-01\n",
       "3498   2014-09-01\n",
       "3499   2014-09-01\n",
       "Name: date, Length: 3500, dtype: datetime64[ns]"
      ]
     },
     "execution_count": 14,
     "metadata": {},
     "output_type": "execute_result"
    }
   ],
   "source": [
    "# converting date in datetime format\n",
    "df.date = pd.to_datetime(df.date)\n",
    "df.date"
   ]
  },
  {
   "cell_type": "markdown",
   "id": "f4cbb3af",
   "metadata": {},
   "source": [
    "### Cleaning ratings with stars"
   ]
  },
  {
   "cell_type": "code",
   "execution_count": 15,
   "id": "57cfa995",
   "metadata": {},
   "outputs": [
    {
     "data": {
      "text/plain": [
       "0       \\n\\t\\t\\t\\t\\t\\t\\t\\t\\t\\t\\t\\t\\t5\n",
       "1                                   2\n",
       "2                                   1\n",
       "3                                   1\n",
       "4                                   1\n",
       "                    ...              \n",
       "3495                                1\n",
       "3496                                7\n",
       "3497                                9\n",
       "3498                               10\n",
       "3499                               10\n",
       "Name: stars, Length: 3500, dtype: object"
      ]
     },
     "execution_count": 15,
     "metadata": {},
     "output_type": "execute_result"
    }
   ],
   "source": [
    "df.stars"
   ]
  },
  {
   "cell_type": "code",
   "execution_count": 16,
   "id": "b2e7915d",
   "metadata": {},
   "outputs": [
    {
     "data": {
      "text/plain": [
       "array(['\\n\\t\\t\\t\\t\\t\\t\\t\\t\\t\\t\\t\\t\\t5', '2', '1', '4', '9', '6', '8', '5',\n",
       "       '3', '10', '7', 'None'], dtype=object)"
      ]
     },
     "execution_count": 16,
     "metadata": {},
     "output_type": "execute_result"
    }
   ],
   "source": [
    "df.stars.unique()"
   ]
  },
  {
   "cell_type": "code",
   "execution_count": 18,
   "id": "9a132a66",
   "metadata": {},
   "outputs": [
    {
     "data": {
      "text/plain": [
       "1                                846\n",
       "2                                406\n",
       "3                                391\n",
       "8                                342\n",
       "10                               290\n",
       "9                                283\n",
       "7                                279\n",
       "4                                238\n",
       "5                                214\n",
       "6                                173\n",
       "\\n\\t\\t\\t\\t\\t\\t\\t\\t\\t\\t\\t\\t\\t5     35\n",
       "None                               3\n",
       "Name: stars, dtype: int64"
      ]
     },
     "execution_count": 18,
     "metadata": {},
     "output_type": "execute_result"
    }
   ],
   "source": [
    "df.stars.value_counts()"
   ]
  },
  {
   "cell_type": "code",
   "execution_count": 20,
   "id": "c0ad76d1",
   "metadata": {},
   "outputs": [],
   "source": [
    "#Droping NOne ratings\n",
    "\n",
    "df.drop(df[df.stars == \"None\"].index, axis=0, inplace=True)"
   ]
  },
  {
   "cell_type": "code",
   "execution_count": 21,
   "id": "58a3474c",
   "metadata": {},
   "outputs": [
    {
     "data": {
      "text/plain": [
       "array(['\\n\\t\\t\\t\\t\\t\\t\\t\\t\\t\\t\\t\\t\\t5', '2', '1', '4', '9', '6', '8', '5',\n",
       "       '3', '10', '7'], dtype=object)"
      ]
     },
     "execution_count": 21,
     "metadata": {},
     "output_type": "execute_result"
    }
   ],
   "source": [
    "df.stars.unique()"
   ]
  },
  {
   "cell_type": "code",
   "execution_count": 22,
   "id": "ebdf665b",
   "metadata": {},
   "outputs": [],
   "source": [
    "df.stars = df.stars.str.strip(\"\\n\\t\\t\\t\\t\\t\\t\\t\\t\\t\\t\\t\\t\\t\")"
   ]
  },
  {
   "cell_type": "code",
   "execution_count": 23,
   "id": "c8092cea",
   "metadata": {},
   "outputs": [
    {
     "data": {
      "text/plain": [
       "1     846\n",
       "2     406\n",
       "3     391\n",
       "8     342\n",
       "10    290\n",
       "9     283\n",
       "7     279\n",
       "5     249\n",
       "4     238\n",
       "6     173\n",
       "Name: stars, dtype: int64"
      ]
     },
     "execution_count": 23,
     "metadata": {},
     "output_type": "execute_result"
    }
   ],
   "source": [
    "df.stars.value_counts()"
   ]
  },
  {
   "cell_type": "markdown",
   "id": "9b3293ea",
   "metadata": {},
   "source": [
    "### Check null values"
   ]
  },
  {
   "cell_type": "code",
   "execution_count": 25,
   "id": "574ac3fe",
   "metadata": {},
   "outputs": [
    {
     "data": {
      "text/plain": [
       "reviews  stars  date   country  verified  corpus\n",
       "False    False  False  False    False     False     3495\n",
       "                       True     False     False        2\n",
       "dtype: int64"
      ]
     },
     "execution_count": 25,
     "metadata": {},
     "output_type": "execute_result"
    }
   ],
   "source": [
    "df.isnull().value_counts()\n"
   ]
  },
  {
   "cell_type": "code",
   "execution_count": 26,
   "id": "3aceef46",
   "metadata": {},
   "outputs": [
    {
     "data": {
      "text/plain": [
       "False    3495\n",
       "True        2\n",
       "Name: country, dtype: int64"
      ]
     },
     "execution_count": 26,
     "metadata": {},
     "output_type": "execute_result"
    }
   ],
   "source": [
    "df.country.isnull().value_counts()"
   ]
  },
  {
   "cell_type": "code",
   "execution_count": 27,
   "id": "6dd7beb1",
   "metadata": {},
   "outputs": [],
   "source": [
    "#droping the rows using index where the country value is null\n",
    "df.drop(df[df.country.isnull() == True].index, axis=0, inplace=True)"
   ]
  },
  {
   "cell_type": "code",
   "execution_count": 29,
   "id": "9e5ee792",
   "metadata": {},
   "outputs": [
    {
     "data": {
      "text/plain": [
       "(3495, 6)"
      ]
     },
     "execution_count": 29,
     "metadata": {},
     "output_type": "execute_result"
    }
   ],
   "source": [
    "df.shape"
   ]
  },
  {
   "cell_type": "code",
   "execution_count": 31,
   "id": "251d63ed",
   "metadata": {},
   "outputs": [
    {
     "data": {
      "text/html": [
       "<div>\n",
       "<style scoped>\n",
       "    .dataframe tbody tr th:only-of-type {\n",
       "        vertical-align: middle;\n",
       "    }\n",
       "\n",
       "    .dataframe tbody tr th {\n",
       "        vertical-align: top;\n",
       "    }\n",
       "\n",
       "    .dataframe thead th {\n",
       "        text-align: right;\n",
       "    }\n",
       "</style>\n",
       "<table border=\"1\" class=\"dataframe\">\n",
       "  <thead>\n",
       "    <tr style=\"text-align: right;\">\n",
       "      <th></th>\n",
       "      <th>reviews</th>\n",
       "      <th>stars</th>\n",
       "      <th>date</th>\n",
       "      <th>country</th>\n",
       "      <th>verified</th>\n",
       "      <th>corpus</th>\n",
       "    </tr>\n",
       "  </thead>\n",
       "  <tbody>\n",
       "    <tr>\n",
       "      <th>0</th>\n",
       "      <td>Not Verified | I was excited to fly BA as I'd ...</td>\n",
       "      <td>5</td>\n",
       "      <td>2024-01-18</td>\n",
       "      <td>United Kingdom</td>\n",
       "      <td>False</td>\n",
       "      <td>verified excited fly ba travelled long haul yr...</td>\n",
       "    </tr>\n",
       "    <tr>\n",
       "      <th>1</th>\n",
       "      <td>Not Verified |  I just want to warn everyone o...</td>\n",
       "      <td>2</td>\n",
       "      <td>2024-01-17</td>\n",
       "      <td>Germany</td>\n",
       "      <td>False</td>\n",
       "      <td>verified want warn everyone worst customer ser...</td>\n",
       "    </tr>\n",
       "    <tr>\n",
       "      <th>2</th>\n",
       "      <td>Not Verified | Paid for business class travell...</td>\n",
       "      <td>1</td>\n",
       "      <td>2024-01-16</td>\n",
       "      <td>United Kingdom</td>\n",
       "      <td>False</td>\n",
       "      <td>verified paid business class travelling cairo ...</td>\n",
       "    </tr>\n",
       "    <tr>\n",
       "      <th>3</th>\n",
       "      <td>✅ Trip Verified |  The plane was extremely dir...</td>\n",
       "      <td>1</td>\n",
       "      <td>2024-01-15</td>\n",
       "      <td>Ireland</td>\n",
       "      <td>True</td>\n",
       "      <td>plane extremely dirty chocolate smudged mine c...</td>\n",
       "    </tr>\n",
       "    <tr>\n",
       "      <th>4</th>\n",
       "      <td>Not Verified | Overall journey wasn’t bad howe...</td>\n",
       "      <td>1</td>\n",
       "      <td>2024-01-12</td>\n",
       "      <td>United Kingdom</td>\n",
       "      <td>False</td>\n",
       "      <td>verified overall journey bad however end bagga...</td>\n",
       "    </tr>\n",
       "    <tr>\n",
       "      <th>...</th>\n",
       "      <td>...</td>\n",
       "      <td>...</td>\n",
       "      <td>...</td>\n",
       "      <td>...</td>\n",
       "      <td>...</td>\n",
       "      <td>...</td>\n",
       "    </tr>\n",
       "    <tr>\n",
       "      <th>3490</th>\n",
       "      <td>Flew LHR to Muscat return in Club World on a 7...</td>\n",
       "      <td>1</td>\n",
       "      <td>2014-09-01</td>\n",
       "      <td>United Kingdom</td>\n",
       "      <td>False</td>\n",
       "      <td>flew lhr muscat return club world g zzza loyal...</td>\n",
       "    </tr>\n",
       "    <tr>\n",
       "      <th>3491</th>\n",
       "      <td>Economy class on 28 Aug from London (LHR) to N...</td>\n",
       "      <td>7</td>\n",
       "      <td>2014-09-01</td>\n",
       "      <td>United States</td>\n",
       "      <td>False</td>\n",
       "      <td>economy class aug london lhr new york jfk boar...</td>\n",
       "    </tr>\n",
       "    <tr>\n",
       "      <th>3492</th>\n",
       "      <td>BA15 LHR to SIN B777-300ER First Class: nice a...</td>\n",
       "      <td>9</td>\n",
       "      <td>2014-09-01</td>\n",
       "      <td>United Kingdom</td>\n",
       "      <td>False</td>\n",
       "      <td>ba lhr sin b er first class nice four month ol...</td>\n",
       "    </tr>\n",
       "    <tr>\n",
       "      <th>3493</th>\n",
       "      <td>Travelled as a family of four to the Maldives....</td>\n",
       "      <td>10</td>\n",
       "      <td>2014-09-01</td>\n",
       "      <td>United Kingdom</td>\n",
       "      <td>False</td>\n",
       "      <td>avelled family four maldives despite numerous ...</td>\n",
       "    </tr>\n",
       "    <tr>\n",
       "      <th>3494</th>\n",
       "      <td>Boston return. Very quick check-in at Heathrow...</td>\n",
       "      <td>10</td>\n",
       "      <td>2014-09-01</td>\n",
       "      <td>United Kingdom</td>\n",
       "      <td>False</td>\n",
       "      <td>boston return quick check heathrow let slow fa...</td>\n",
       "    </tr>\n",
       "  </tbody>\n",
       "</table>\n",
       "<p>3495 rows × 6 columns</p>\n",
       "</div>"
      ],
      "text/plain": [
       "                                                reviews stars       date  \\\n",
       "0     Not Verified | I was excited to fly BA as I'd ...     5 2024-01-18   \n",
       "1     Not Verified |  I just want to warn everyone o...     2 2024-01-17   \n",
       "2     Not Verified | Paid for business class travell...     1 2024-01-16   \n",
       "3     ✅ Trip Verified |  The plane was extremely dir...     1 2024-01-15   \n",
       "4     Not Verified | Overall journey wasn’t bad howe...     1 2024-01-12   \n",
       "...                                                 ...   ...        ...   \n",
       "3490  Flew LHR to Muscat return in Club World on a 7...     1 2014-09-01   \n",
       "3491  Economy class on 28 Aug from London (LHR) to N...     7 2014-09-01   \n",
       "3492  BA15 LHR to SIN B777-300ER First Class: nice a...     9 2014-09-01   \n",
       "3493  Travelled as a family of four to the Maldives....    10 2014-09-01   \n",
       "3494  Boston return. Very quick check-in at Heathrow...    10 2014-09-01   \n",
       "\n",
       "             country  verified  \\\n",
       "0     United Kingdom     False   \n",
       "1            Germany     False   \n",
       "2     United Kingdom     False   \n",
       "3            Ireland      True   \n",
       "4     United Kingdom     False   \n",
       "...              ...       ...   \n",
       "3490  United Kingdom     False   \n",
       "3491   United States     False   \n",
       "3492  United Kingdom     False   \n",
       "3493  United Kingdom     False   \n",
       "3494  United Kingdom     False   \n",
       "\n",
       "                                                 corpus  \n",
       "0     verified excited fly ba travelled long haul yr...  \n",
       "1     verified want warn everyone worst customer ser...  \n",
       "2     verified paid business class travelling cairo ...  \n",
       "3     plane extremely dirty chocolate smudged mine c...  \n",
       "4     verified overall journey bad however end bagga...  \n",
       "...                                                 ...  \n",
       "3490  flew lhr muscat return club world g zzza loyal...  \n",
       "3491  economy class aug london lhr new york jfk boar...  \n",
       "3492  ba lhr sin b er first class nice four month ol...  \n",
       "3493  avelled family four maldives despite numerous ...  \n",
       "3494  boston return quick check heathrow let slow fa...  \n",
       "\n",
       "[3495 rows x 6 columns]"
      ]
     },
     "execution_count": 31,
     "metadata": {},
     "output_type": "execute_result"
    }
   ],
   "source": [
    "df.reset_index(drop=True)"
   ]
  },
  {
   "cell_type": "code",
   "execution_count": 33,
   "id": "9c659cc0",
   "metadata": {},
   "outputs": [],
   "source": [
    "df.to_csv('./cleaned_BA_reviews.csv')"
   ]
  },
  {
   "cell_type": "code",
   "execution_count": 34,
   "id": "b0e968e7",
   "metadata": {},
   "outputs": [],
   "source": [
    "df.to_csv('../EDA/cleaned_BA_reviews.csv')"
   ]
  },
  {
   "cell_type": "code",
   "execution_count": null,
   "id": "9871e849",
   "metadata": {},
   "outputs": [],
   "source": []
  }
 ],
 "metadata": {
  "kernelspec": {
   "display_name": "Python 3 (ipykernel)",
   "language": "python",
   "name": "python3"
  },
  "language_info": {
   "codemirror_mode": {
    "name": "ipython",
    "version": 3
   },
   "file_extension": ".py",
   "mimetype": "text/x-python",
   "name": "python",
   "nbconvert_exporter": "python",
   "pygments_lexer": "ipython3",
   "version": "3.10.9"
  }
 },
 "nbformat": 4,
 "nbformat_minor": 5
}
